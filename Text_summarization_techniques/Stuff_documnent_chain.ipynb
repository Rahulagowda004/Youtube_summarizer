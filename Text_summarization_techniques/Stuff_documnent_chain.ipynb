{
 "cells": [
  {
   "cell_type": "markdown",
   "metadata": {},
   "source": [
    "STUFF DOCUMENT CHAIN TECHNIQUE"
   ]
  },
  {
   "cell_type": "code",
   "execution_count": 28,
   "metadata": {},
   "outputs": [
    {
     "name": "stdout",
     "output_type": "stream",
     "text": [
      "[Document(metadata={'source': 'Speech.pdf', 'page': 0}, page_content='Independence Day Speech \\nGood morning respected teachers, honored guests, and my dear friends, \\nToday, we gather here to celebrate the spirit of freedom and to honor the sacrifices of \\nthose who fought for our independence. On this day, 15th August, we remember the \\njourney that brought us to freedom and reflect on the responsibilities that come with it. \\nSeventy-seven years ago, on this very day in 1947, our country broke free from the \\nchains of British rule, marking the dawn of a new era. But this freedom wasn’t gifted to \\nus. It was earned through the courage, resilience, and sacrifice of countless heroes who \\ndreamed of a sovereign, self-reliant India. They came from all walks of life – farmers, \\nteachers, soldiers, and students – bound together by a common vision for an \\nindependent nation. Figures like Mahatma Gandhi, Subhas Chandra Bose, Bhagat \\nSingh, and Sardar Patel ignited the fire of patriotism in our hearts, and their legacy lives \\non in every corner of our country.')]\n"
     ]
    }
   ],
   "source": [
    "from langchain_community.document_loaders import PyPDFLoader\n",
    "\n",
    "loader = PyPDFLoader(\"Speech.pdf\")\n",
    "docs = loader.load_and_split()\n",
    "print(docs)"
   ]
  },
  {
   "cell_type": "code",
   "execution_count": 25,
   "metadata": {},
   "outputs": [],
   "source": [
    "from langchain.prompts import PromptTemplate\n",
    "\n",
    "template = \"\"\"write a concise and short summary of the following document,\n",
    "document : {text}\n",
    "\"\"\"\n",
    "\n",
    "prompt = PromptTemplate(input_variables=['text'], template=template)"
   ]
  },
  {
   "cell_type": "code",
   "execution_count": null,
   "metadata": {},
   "outputs": [],
   "source": [
    "from langchain_groq import ChatGroq\n",
    "GROQ_API_KEY = \n",
    "model = ChatGroq(groq_api_key = GROQ_API_KEY)"
   ]
  },
  {
   "cell_type": "code",
   "execution_count": 29,
   "metadata": {},
   "outputs": [
    {
     "name": "stdout",
     "output_type": "stream",
     "text": [
      "\n",
      "\n",
      "\u001b[1m> Entering new StuffDocumentsChain chain...\u001b[0m\n",
      "\n",
      "\n",
      "\u001b[1m> Entering new LLMChain chain...\u001b[0m\n",
      "Prompt after formatting:\n",
      "\u001b[32;1m\u001b[1;3mwrite a concise and short summary of the following document,\n",
      "document : Independence Day Speech \n",
      "Good morning respected teachers, honored guests, and my dear friends, \n",
      "Today, we gather here to celebrate the spirit of freedom and to honor the sacrifices of \n",
      "those who fought for our independence. On this day, 15th August, we remember the \n",
      "journey that brought us to freedom and reflect on the responsibilities that come with it. \n",
      "Seventy-seven years ago, on this very day in 1947, our country broke free from the \n",
      "chains of British rule, marking the dawn of a new era. But this freedom wasn’t gifted to \n",
      "us. It was earned through the courage, resilience, and sacrifice of countless heroes who \n",
      "dreamed of a sovereign, self-reliant India. They came from all walks of life – farmers, \n",
      "teachers, soldiers, and students – bound together by a common vision for an \n",
      "independent nation. Figures like Mahatma Gandhi, Subhas Chandra Bose, Bhagat \n",
      "Singh, and Sardar Patel ignited the fire of patriotism in our hearts, and their legacy lives \n",
      "on in every corner of our country.\n",
      "\u001b[0m\n",
      "\n",
      "\u001b[1m> Finished chain.\u001b[0m\n",
      "\n",
      "\u001b[1m> Finished chain.\u001b[0m\n",
      "The document is an Independence Day speech that celebrates the 77th anniversary of India's independence from British rule. It honors the sacrifices of those who fought for independence and remembers the journey to freedom. The speech highlights the courage, resilience, and sacrifice of heroes like Mahatma Gandhi, Subhas Chandra Bose, Bhagat Singh, and Sardar Patel, who were instrumental in the country's struggle for independence. The speech also emphasizes the responsibilities that come with freedom and the need for every Indian to uphold the country's values and principles.\n"
     ]
    }
   ],
   "source": [
    "from langchain.chains.summarize import load_summarize_chain\n",
    "\n",
    "chain = load_summarize_chain(llm=llm, chain_type='stuff', prompt=prompt,verbose = True)\n",
    "output_summary = chain.run(docs)\n",
    "print(output_summary)"
   ]
  }
 ],
 "metadata": {
  "kernelspec": {
   "display_name": "Python 3",
   "language": "python",
   "name": "python3"
  },
  "language_info": {
   "codemirror_mode": {
    "name": "ipython",
    "version": 3
   },
   "file_extension": ".py",
   "mimetype": "text/x-python",
   "name": "python",
   "nbconvert_exporter": "python",
   "pygments_lexer": "ipython3",
   "version": "3.10.11"
  }
 },
 "nbformat": 4,
 "nbformat_minor": 2
}
